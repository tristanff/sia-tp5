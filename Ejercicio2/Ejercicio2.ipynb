{
 "cells": [
  {
   "metadata": {},
   "cell_type": "markdown",
   "source": "### Variational Autoencoder"
  },
  {
   "cell_type": "code",
   "metadata": {
    "ExecuteTime": {
     "end_time": "2024-06-23T17:45:47.376406Z",
     "start_time": "2024-06-23T17:45:46.005291Z"
    }
   },
   "source": [
    "from MLP_VAE import train, train_vae, Dense, Dense_vae, predict_with_layer_value, predict, reparameterize, vae_loss\n",
    "from activation_functions import Sigmoid\n",
    "from MLP_VAE import mse, mse_derivative\n",
    "from utils import fonts_to_bitmap, bitmap_as_matrix, get_config_params, train_different_architectures\n",
    "from plots import *\n",
    "from font import fontDict\n",
    "import numpy as np\n",
    "import matplotlib.pyplot as plt"
   ],
   "outputs": [],
   "execution_count": 1
  },
  {
   "cell_type": "markdown",
   "metadata": {},
   "source": [
    "# Load fonts"
   ]
  },
  {
   "metadata": {
    "ExecuteTime": {
     "end_time": "2024-06-23T17:45:47.389606Z",
     "start_time": "2024-06-23T17:45:47.379195Z"
    }
   },
   "cell_type": "code",
   "source": [
    "# Load fonts into list of bitmaps\n",
    "bitmap_dict = fonts_to_bitmap(fontDict)\n",
    "bitmap_list = list(bitmap_dict.values())  \n",
    "bitmap_labels = list(bitmap_dict.keys())\n",
    "\n",
    "X = np.reshape(bitmap_list,(len(bitmap_list), 35, 1))\n",
    "Y = np.array(bitmap_labels)\n",
    "\n",
    "#X = np.reshape(X,(len(X), 35))\n",
    "#X = X.astype(np.float32)\n",
    "print(X.shape)"
   ],
   "outputs": [
    {
     "name": "stdout",
     "output_type": "stream",
     "text": [
      "(32, 35, 1)\n"
     ]
    }
   ],
   "execution_count": 2
  },
  {
   "cell_type": "code",
   "metadata": {
    "ExecuteTime": {
     "end_time": "2024-06-23T17:45:49.366235Z",
     "start_time": "2024-06-23T17:45:47.394109Z"
    }
   },
   "source": [
    "# Reshape each element of X to 7x5\n",
    "reshaped_X = np.reshape(X, (len(X), 7, 5))\n",
    "\n",
    "# Create a subplot with 1 row and as many columns as elements in X\n",
    "fig, axs = plt.subplots(1, len(X), figsize=(12, 6))\n",
    "\n",
    "# Plot each element of reshaped_X in a separate subplot\n",
    "for i in range(len(X)):\n",
    "    axs[i].imshow(reshaped_X[i], cmap='gray_r')\n",
    "    axs[i].axis('off')\n",
    "    axs[i].set_title(Y[i])  # Set the title to the corresponding label from Y\n",
    "\n",
    "# Adjust the spacing between subplots\n",
    "plt.tight_layout()\n",
    "\n",
    "# Show the plot\n",
    "plt.show()"
   ],
   "outputs": [
    {
     "data": {
      "text/plain": [
       "<Figure size 1200x600 with 32 Axes>"
      ],
      "image/png": "[encoded data removed]"
     },
     "metadata": {},
     "output_type": "display_data"
    }
   ],
   "execution_count": 3
  },
  {
   "cell_type": "markdown",
   "metadata": {},
   "source": [
    "# Autoencoder"
   ]
  },
  {
   "cell_type": "code",
   "metadata": {
    "ExecuteTime": {
     "end_time": "2024-06-23T17:45:49.376854Z",
     "start_time": "2024-06-23T17:45:49.370122Z"
    }
   },
   "source": [
    "# Retrieve parameters from config file\n",
    "learning_rate, max_epochs, bias, beta1, beta2, epsilon, optimizer, activation = get_config_params('ejercicio2_config.json')\n",
    "\n",
    "mse_list = []"
   ],
   "outputs": [],
   "execution_count": 4
  },
  {
   "cell_type": "code",
   "metadata": {
    "ExecuteTime": {
     "end_time": "2024-06-23T17:47:41.172428Z",
     "start_time": "2024-06-23T17:47:41.165743Z"
    }
   },
   "source": [
    "# The latent space is the output of \"layer 6\"\n",
    "def generate_vae():\n",
    "    encoder = [\n",
    "        Dense_vae(35, 20, optimizer_type=optimizer, learning_rate=learning_rate),\n",
    "        Sigmoid(),\n",
    "        Dense_vae(20, 10, optimizer_type=optimizer, learning_rate=learning_rate),\n",
    "        Sigmoid(),\n",
    "        Dense_vae(10, 2, optimizer_type=optimizer, learning_rate=learning_rate),  # mu layer\n",
    "        Dense_vae(10, 2, optimizer_type=optimizer, learning_rate=learning_rate, output_type='logvar'),  # logvar layer\n",
    "    ] \n",
    "\n",
    "    decoder = [\n",
    "        Dense_vae(2, 10, optimizer_type=optimizer, learning_rate=learning_rate),\n",
    "        Sigmoid(),\n",
    "        Dense_vae(10, 20, optimizer_type=optimizer, learning_rate=learning_rate),\n",
    "        Sigmoid(),\n",
    "        Dense_vae(20, 35, optimizer_type=optimizer, learning_rate=learning_rate),\n",
    "        Sigmoid(),\n",
    "    ]\n",
    "\n",
    "    return encoder, decoder"
   ],
   "outputs": [],
   "execution_count": 8
  },
  {
   "cell_type": "code",
   "metadata": {
    "ExecuteTime": {
     "end_time": "2024-06-23T17:47:52.793560Z",
     "start_time": "2024-06-23T17:47:52.786577Z"
    }
   },
   "source": [
    "wrong_dict = {}\n",
    "\n",
    "def is_same_pixel(pixel1, pixel2):\n",
    "    return round(pixel1) == round(pixel2)\n",
    "\n",
    "def compare_bitmaps(input_bitmap, output_bitmap, character, max_wrongs = 1):\n",
    "    wrongs = 0  \n",
    "    for i in range(7*5):\n",
    "        if not is_same_pixel(input_bitmap[i], output_bitmap[i]):\n",
    "            print(f\"Pixel {i} of '{character}' is different: {input_bitmap[i]} != {output_bitmap[i]}\")\n",
    "            wrongs += 1\n",
    "            if wrongs > max_wrongs:\n",
    "                return False\n",
    "            wrong_dict[character] = i\n",
    "    \n",
    "    return True"
   ],
   "outputs": [],
   "execution_count": 9
  },
  {
   "metadata": {
    "ExecuteTime": {
     "end_time": "2024-06-23T17:47:54.780377Z",
     "start_time": "2024-06-23T17:47:54.673892Z"
    }
   },
   "cell_type": "code",
   "source": [
    "characters = list(bitmap_dict.keys())\n",
    "#print(characters)\n",
    "\n",
    "epochs = 5000\n",
    "#max_error = 0.02\n",
    "\n",
    "# Generate VAE\n",
    "encoder, decoder = generate_vae()\n",
    "\n",
    "# Train VAE\n",
    "losses = train_vae(encoder, decoder, X, epochs=epochs, verbose=True)\n",
    "\n",
    "# Print final loss\n",
    "print(f\"Final Loss: {losses[-1]}\")"
   ],
   "outputs": [
    {
     "name": "stdout",
     "output_type": "stream",
     "text": [
      "train_vae input:  x_train shape:  (32, 35, 1) \n",
      "\n",
      "train_vae output shape:  (35, 1) \n",
      "\n",
      "Dense_vae.forward input shape: (35, 1)\n",
      "train_vae output shape:  (20, 1) \n",
      "\n",
      "train_vae output shape:  (20, 1) \n",
      "\n",
      "Dense_vae.forward input shape: (20, 1)\n",
      "train_vae output shape:  (10, 1) \n",
      "\n",
      "train_vae output shape:  (10, 1) \n",
      "\n",
      "Dense_vae.forward input shape: (10, 1)\n",
      "train_vae output shape:  (2, 1) \n",
      "\n",
      "Dense_vae.forward input shape: (2, 1)\n"
     ]
    },
    {
     "ename": "ValueError",
     "evalue": "shapes (2,10) and (2,1) not aligned: 10 (dim 1) != 2 (dim 0)",
     "output_type": "error",
     "traceback": [
      "\u001B[0;31m---------------------------------------------------------------------------\u001B[0m",
      "\u001B[0;31mValueError\u001B[0m                                Traceback (most recent call last)",
      "Cell \u001B[0;32mIn[10], line 11\u001B[0m\n\u001B[1;32m      8\u001B[0m encoder, decoder \u001B[38;5;241m=\u001B[39m generate_vae()\n\u001B[1;32m     10\u001B[0m \u001B[38;5;66;03m# Train VAE\u001B[39;00m\n\u001B[0;32m---> 11\u001B[0m losses \u001B[38;5;241m=\u001B[39m \u001B[43mtrain_vae\u001B[49m\u001B[43m(\u001B[49m\u001B[43mencoder\u001B[49m\u001B[43m,\u001B[49m\u001B[43m \u001B[49m\u001B[43mdecoder\u001B[49m\u001B[43m,\u001B[49m\u001B[43m \u001B[49m\u001B[43mX\u001B[49m\u001B[43m,\u001B[49m\u001B[43m \u001B[49m\u001B[43mepochs\u001B[49m\u001B[38;5;241;43m=\u001B[39;49m\u001B[43mepochs\u001B[49m\u001B[43m,\u001B[49m\u001B[43m \u001B[49m\u001B[43mverbose\u001B[49m\u001B[38;5;241;43m=\u001B[39;49m\u001B[38;5;28;43;01mTrue\u001B[39;49;00m\u001B[43m)\u001B[49m\n\u001B[1;32m     13\u001B[0m \u001B[38;5;66;03m# Print final loss\u001B[39;00m\n\u001B[1;32m     14\u001B[0m \u001B[38;5;28mprint\u001B[39m(\u001B[38;5;124mf\u001B[39m\u001B[38;5;124m\"\u001B[39m\u001B[38;5;124mFinal Loss: \u001B[39m\u001B[38;5;132;01m{\u001B[39;00mlosses[\u001B[38;5;241m-\u001B[39m\u001B[38;5;241m1\u001B[39m]\u001B[38;5;132;01m}\u001B[39;00m\u001B[38;5;124m\"\u001B[39m)\n",
      "File \u001B[0;32m~/PycharmProjects/sia-tp5/Ejercicio2/MLP_VAE.py:59\u001B[0m, in \u001B[0;36mtrain_vae\u001B[0;34m(encoder, decoder, x_train, epochs, verbose)\u001B[0m\n\u001B[1;32m     57\u001B[0m \u001B[38;5;28;01mfor\u001B[39;00m layer \u001B[38;5;129;01min\u001B[39;00m encoder:\n\u001B[1;32m     58\u001B[0m     \u001B[38;5;28mprint\u001B[39m(\u001B[38;5;124m'\u001B[39m\u001B[38;5;124mtrain_vae output shape: \u001B[39m\u001B[38;5;124m'\u001B[39m, output\u001B[38;5;241m.\u001B[39mshape, \u001B[38;5;124m'\u001B[39m\u001B[38;5;130;01m\\n\u001B[39;00m\u001B[38;5;124m'\u001B[39m)\n\u001B[0;32m---> 59\u001B[0m     output \u001B[38;5;241m=\u001B[39m \u001B[43mlayer\u001B[49m\u001B[38;5;241;43m.\u001B[39;49m\u001B[43mforward\u001B[49m\u001B[43m(\u001B[49m\u001B[43moutput\u001B[49m\u001B[43m)\u001B[49m\n\u001B[1;32m     60\u001B[0m     \u001B[38;5;28;01mif\u001B[39;00m \u001B[38;5;28misinstance\u001B[39m(layer, Dense) \u001B[38;5;129;01mand\u001B[39;00m layer\u001B[38;5;241m.\u001B[39moutput_type \u001B[38;5;241m==\u001B[39m \u001B[38;5;124m'\u001B[39m\u001B[38;5;124mmu\u001B[39m\u001B[38;5;124m'\u001B[39m:\n\u001B[1;32m     61\u001B[0m         mu \u001B[38;5;241m=\u001B[39m output\n",
      "File \u001B[0;32m~/PycharmProjects/sia-tp5/Ejercicio2/MLP_VAE.py:129\u001B[0m, in \u001B[0;36mDense_vae.forward\u001B[0;34m(self, input)\u001B[0m\n\u001B[1;32m    127\u001B[0m \u001B[38;5;28mprint\u001B[39m(\u001B[38;5;124mf\u001B[39m\u001B[38;5;124m'\u001B[39m\u001B[38;5;124mDense_vae.forward input shape: \u001B[39m\u001B[38;5;132;01m{\u001B[39;00m\u001B[38;5;28minput\u001B[39m\u001B[38;5;241m.\u001B[39mshape\u001B[38;5;132;01m}\u001B[39;00m\u001B[38;5;124m'\u001B[39m)   \u001B[38;5;66;03m# debugging\u001B[39;00m\n\u001B[1;32m    128\u001B[0m \u001B[38;5;28mself\u001B[39m\u001B[38;5;241m.\u001B[39minput \u001B[38;5;241m=\u001B[39m \u001B[38;5;28minput\u001B[39m\n\u001B[0;32m--> 129\u001B[0m \u001B[38;5;28mself\u001B[39m\u001B[38;5;241m.\u001B[39moutput \u001B[38;5;241m=\u001B[39m \u001B[43mnp\u001B[49m\u001B[38;5;241;43m.\u001B[39;49m\u001B[43mdot\u001B[49m\u001B[43m(\u001B[49m\u001B[38;5;28;43mself\u001B[39;49m\u001B[38;5;241;43m.\u001B[39;49m\u001B[43mweights\u001B[49m\u001B[43m,\u001B[49m\u001B[43m \u001B[49m\u001B[38;5;28;43mself\u001B[39;49m\u001B[38;5;241;43m.\u001B[39;49m\u001B[43minput\u001B[49m\u001B[43m)\u001B[49m \u001B[38;5;241m+\u001B[39m \u001B[38;5;28mself\u001B[39m\u001B[38;5;241m.\u001B[39mbias\n\u001B[1;32m    130\u001B[0m \u001B[38;5;28;01mreturn\u001B[39;00m \u001B[38;5;28mself\u001B[39m\u001B[38;5;241m.\u001B[39moutput\n",
      "\u001B[0;31mValueError\u001B[0m: shapes (2,10) and (2,1) not aligned: 10 (dim 1) != 2 (dim 0)"
     ]
    }
   ],
   "execution_count": 10
  },
  {
   "metadata": {},
   "cell_type": "code",
   "source": [
    "# Evaluate the VAE\n",
    "latent_spaces = []\n",
    "raw_latent_spaces = []\n",
    "input_matrix_list = []\n",
    "output_matrix_list = []\n",
    "correct = 0\n",
    "\n",
    "for c in range(len(characters)):\n",
    "    input_bitmap = []\n",
    "    output_bitmap = []\n",
    "\n",
    "    for i in range(len(X[c])):\n",
    "        input_bitmap.append(X[c][i][0])\n",
    "    input_matrix_list.append(bitmap_as_matrix(input_bitmap))\n",
    "\n",
    "    # Get the latent space representation\n",
    "    output = X[c]\n",
    "    for layer in encoder:\n",
    "        output = layer.forward(output)\n",
    "        if isinstance(layer, Dense) and layer.output_type == 'mu':\n",
    "            mu = output\n",
    "        elif isinstance(layer, Dense) and layer.output_type == 'logvar':\n",
    "            logvar = output\n",
    "    z = reparameterize(mu, logvar)\n",
    "    raw_latent_spaces.append(z)\n",
    "    latent_spaces.append((z[0][0], z[1][0]))\n",
    "\n",
    "    # Reconstruct from latent space\n",
    "    reconstructed = z\n",
    "    for layer in decoder:\n",
    "        reconstructed = layer.forward(reconstructed)\n",
    "\n",
    "    for output in reconstructed:\n",
    "        output_bitmap.append(output[0])\n",
    "\n",
    "    if not compare_bitmaps(input_bitmap, output_bitmap, characters[c]):\n",
    "        print(f\"Error in the reconstruction of character '{characters[c]}'\")\n",
    "    else:\n",
    "        correct += 1\n",
    "    \n",
    "    output_matrix_list.append(bitmap_as_matrix(output_bitmap))\n",
    "\n",
    "plot_bitmap_matrix_2(input_matrix_list, characters, \"Original Characters\")\n",
    "plot_bitmap_matrix_2(output_matrix_list, characters, \"Predicted Characters\")"
   ],
   "outputs": [],
   "execution_count": null
  },
  {
   "cell_type": "code",
   "metadata": {},
   "source": [
    "plot_bitmap_matrix_2(np.round(output_matrix_list), characters, \"Predicted Characters\")"
   ],
   "outputs": [],
   "execution_count": null
  },
  {
   "cell_type": "code",
   "metadata": {},
   "source": [
    "plot_latent_spaces(latent_spaces, characters)"
   ],
   "outputs": [],
   "execution_count": null
  },
  {
   "metadata": {},
   "cell_type": "markdown",
   "source": "### Example with random \"data\" of shape (35,1)"
  },
  {
   "metadata": {
    "ExecuteTime": {
     "end_time": "2024-06-23T17:49:25.567755Z",
     "start_time": "2024-06-23T17:49:25.545444Z"
    }
   },
   "cell_type": "code",
   "source": [
    "characters = list(bitmap_dict.keys())\n",
    "\n",
    "def generate_vae(optimizer, learning_rate):\n",
    "    encoder = [\n",
    "        Dense_vae(35, 20, optimizer_type=optimizer, learning_rate=learning_rate),\n",
    "        Sigmoid(),\n",
    "        Dense_vae(20, 10, optimizer_type=optimizer, learning_rate=learning_rate),\n",
    "        Sigmoid(),\n",
    "        Dense_vae(10, 2, optimizer_type=optimizer, learning_rate=learning_rate),  # mu layer\n",
    "        Dense_vae(10, 2, optimizer_type=optimizer, learning_rate=learning_rate, output_type='logvar'),  # logvar layer\n",
    "    ]\n",
    "\n",
    "    decoder = [\n",
    "        Dense_vae(2, 10, optimizer_type=optimizer, learning_rate=learning_rate),\n",
    "        Sigmoid(),\n",
    "        Dense_vae(10, 20, optimizer_type=optimizer, learning_rate=learning_rate),\n",
    "        Sigmoid(),\n",
    "        Dense_vae(20, 35, optimizer_type=optimizer, learning_rate=learning_rate),\n",
    "        Sigmoid(),\n",
    "    ]\n",
    "\n",
    "    return encoder, decoder\n",
    "\n",
    "# Example usage:\n",
    "optimizer = 'ADAM'\n",
    "learning_rate = 0.001\n",
    "\n",
    "encoder, decoder = generate_vae(optimizer, learning_rate)\n",
    "\n",
    "# Example input\n",
    "x_train = np.random.rand(35, 1) # in our case the dimensions are (32, 35, 1) aka 32 letters (etc.) with dimension 35 (7x5)\n",
    "print('Pre-coding input', x_train, '\\n')\n",
    "#print('x=', x_train, '\\n') # debug\n",
    "\n",
    "# Forward pass through the encoder\n",
    "mu = encoder[4].forward(encoder[3].forward(encoder[2].forward(encoder[1].forward(encoder[0].forward(x_train)))))\n",
    "logvar = encoder[5].forward(encoder[3].forward(encoder[2].forward(encoder[1].forward(encoder[0].forward(x_train)))))\n",
    "print('mu=', mu,'logvar=',logvar,'\\n')  # debug\n",
    "\n",
    "# Reparameterize\n",
    "z = reparameterize(mu, logvar)\n",
    "print('z=',z,'\\n')  # debug\n",
    "\n",
    "# Forward pass through the decoder\n",
    "output_matrix_list = decoder[4].forward(decoder[3].forward(decoder[2].forward(decoder[1].forward(decoder[0].forward(z)))))\n",
    "print('Decoded output shape: ',output_matrix_list.shape,'\\n')  # debug\n",
    "print('Decoded output : ',output_matrix_list)  # debug"
   ],
   "outputs": [
    {
     "name": "stdout",
     "output_type": "stream",
     "text": [
      "Pre-coding input [[0.31253465]\n",
      " [0.64988105]\n",
      " [0.46285792]\n",
      " [0.87116485]\n",
      " [0.16300571]\n",
      " [0.73543739]\n",
      " [0.87720381]\n",
      " [0.10481646]\n",
      " [0.25661832]\n",
      " [0.12864984]\n",
      " [0.43254218]\n",
      " [0.24213778]\n",
      " [0.47969327]\n",
      " [0.77543692]\n",
      " [0.27838596]\n",
      " [0.37542619]\n",
      " [0.34502107]\n",
      " [0.90949674]\n",
      " [0.94132232]\n",
      " [0.95462121]\n",
      " [0.25297526]\n",
      " [0.85078528]\n",
      " [0.95914518]\n",
      " [0.62267666]\n",
      " [0.27804151]\n",
      " [0.19312671]\n",
      " [0.12474689]\n",
      " [0.96147462]\n",
      " [0.22552421]\n",
      " [0.29506973]\n",
      " [0.21833016]\n",
      " [0.14108585]\n",
      " [0.75886411]\n",
      " [0.70843876]\n",
      " [0.97537786]] \n",
      "\n",
      "Dense_vae.forward input shape: (35, 1)\n",
      "Dense_vae.forward input shape: (20, 1)\n",
      "Dense_vae.forward input shape: (10, 1)\n",
      "Dense_vae.forward input shape: (35, 1)\n",
      "Dense_vae.forward input shape: (20, 1)\n",
      "Dense_vae.forward input shape: (10, 1)\n",
      "mu= [[0.21062671]\n",
      " [2.70097147]] logvar= [[ 2.03222493]\n",
      " [-0.26061233]] \n",
      "\n",
      "reparameterize input:  [[0.21062671]\n",
      " [2.70097147]] [[ 2.03222493]\n",
      " [-0.26061233]] \n",
      "\n",
      "[[6.03942696]\n",
      " [1.79861988]]\n",
      "z= [[6.03942696]\n",
      " [1.79861988]] \n",
      "\n",
      "Dense_vae.forward input shape: (2, 1)\n",
      "Dense_vae.forward input shape: (10, 1)\n",
      "Dense_vae.forward input shape: (20, 1)\n",
      "Decoded output shape:  (35, 1) \n",
      "\n",
      "Decoded output :  [[ 1.34569967e+00]\n",
      " [ 2.92216195e+00]\n",
      " [-3.22041147e-01]\n",
      " [ 2.29120936e-03]\n",
      " [-2.14226698e+00]\n",
      " [-1.04402451e+00]\n",
      " [-6.80209154e-01]\n",
      " [ 1.09615727e+00]\n",
      " [ 3.55966718e+00]\n",
      " [-1.14140890e+00]\n",
      " [-5.35122513e-02]\n",
      " [-4.19141875e+00]\n",
      " [ 1.41800070e+00]\n",
      " [ 4.91044267e+00]\n",
      " [-8.52941877e-01]\n",
      " [-3.64699861e+00]\n",
      " [ 1.99869344e+00]\n",
      " [ 2.34646566e+00]\n",
      " [-4.13511177e+00]\n",
      " [-1.74100472e+00]\n",
      " [-9.06575977e-01]\n",
      " [-6.75165469e+00]\n",
      " [ 6.81234399e-01]\n",
      " [ 5.38058787e-01]\n",
      " [ 5.40583461e-01]\n",
      " [ 2.88755464e+00]\n",
      " [ 2.08094830e+00]\n",
      " [-1.58224698e+00]\n",
      " [-5.76620204e-01]\n",
      " [ 5.11139792e+00]\n",
      " [-1.95322940e+00]\n",
      " [ 4.06593710e+00]\n",
      " [ 1.27846448e+00]\n",
      " [-4.34719677e+00]\n",
      " [ 4.10988804e+00]]\n"
     ]
    }
   ],
   "execution_count": 13
  },
  {
   "metadata": {},
   "cell_type": "code",
   "source": "",
   "outputs": [],
   "execution_count": null
  }
 ],
 "metadata": {
  "kernelspec": {
   "display_name": "Python 3 (ipykernel)",
   "language": "python",
   "name": "python3"
  },
  "language_info": {
   "codemirror_mode": {
    "name": "ipython",
    "version": 3
   },
   "file_extension": ".py",
   "mimetype": "text/x-python",
   "name": "python",
   "nbconvert_exporter": "python",
   "pygments_lexer": "ipython3",
   "version": "3.10.12"
  }
 },
 "nbformat": 4,
 "nbformat_minor": 2
}
